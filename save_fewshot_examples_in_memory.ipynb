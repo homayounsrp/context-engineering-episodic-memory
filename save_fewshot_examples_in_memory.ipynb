{
 "cells": [
  {
   "cell_type": "code",
   "execution_count": 3,
   "id": "efb8dc4c",
   "metadata": {},
   "outputs": [],
   "source": [
    "from Data import example1, example2\n",
    "from Graph.memory import store\n"
   ]
  },
  {
   "cell_type": "code",
   "execution_count": 4,
   "id": "3f2ce816",
   "metadata": {},
   "outputs": [],
   "source": [
    "import uuid\n",
    "store.put(\n",
    "    (\"customer_support\", \"homayoun\", \"few_shot_examples\"), \n",
    "    str(uuid.uuid4()), \n",
    "    example1\n",
    ")\n",
    "store.put(\n",
    "    (\"customer_support\", \"homayoun\", \"few_shot_examples\"), \n",
    "    str(uuid.uuid4()),\n",
    "    example2\n",
    ")\n"
   ]
  },
  {
   "cell_type": "code",
   "execution_count": 6,
   "id": "a0dd2200",
   "metadata": {},
   "outputs": [],
   "source": [
    "ticket = {\n",
    "    \"from\": \"Alex Smith <alex@gmail.com>\",\n",
    "    \"subject\": \"Returning an item\",\n",
    "    \"ticket_description\": \"\"\" \n",
    "\n",
    "    Struggling to keep up with emails? Our AI Email Assistant can help you respond faster, prioritize smarter, and stay organized effortlessly.\n",
    "\n",
    "    Features you'll love:\n",
    "    - Instant smart replies\n",
    "    - Auto-sorting & tagging\n",
    "    - Learns your style over time\n",
    "\n",
    "    Give it a try and feel the difference — your inbox will thank you!\n",
    "\n",
    "    – The AI+ Team\n",
    "\n",
    "        \"\"\"\n",
    "}\n",
    "\n"
   ]
  },
  {
   "cell_type": "code",
   "execution_count": 7,
   "id": "c74822ae",
   "metadata": {},
   "outputs": [],
   "source": [
    "results = store.search(\n",
    "    (\"customer_support\", \"homayoun\", \"few_shot_examples\"),\n",
    "    query=str({\"ticket\": ticket}),\n",
    "    limit=1)"
   ]
  },
  {
   "cell_type": "code",
   "execution_count": 8,
   "id": "eac038c9",
   "metadata": {},
   "outputs": [
    {
     "data": {
      "text/plain": [
       "[Item(namespace=['customer_support', 'homayoun', 'few_shot_examples'], key='e84b9fa8-5525-4023-9db2-c88fa74dd5b3', value={'ticket': {'from': 'Sarah Chen <sarah.chen@company.com>', 'subject': 'Hassle-Free Refunds + 20% Off Your Next Purchase!', 'ticket_description': 'Hi John,\\n\\nDid you know our refund process is now faster than ever? Whether it’s shoes, gadgets, or headphones — you can return items with just a few clicks.\\n\\nAnd here’s a thank-you gift 🎁: Use code **REFUND20** at checkout to get 20% off your next order.\\n\\nNo action needed — just shop smarter and with peace of mind.\\n\\nCheers,  \\nThe Returns Team at Company.com\\n'}, 'label': 'ignore'}, created_at='2025-07-20T17:20:50.955143+00:00', updated_at='2025-07-20T17:20:50.955143+00:00', score=0.5312740308236908)]"
      ]
     },
     "execution_count": 8,
     "metadata": {},
     "output_type": "execute_result"
    }
   ],
   "source": [
    "results"
   ]
  },
  {
   "cell_type": "code",
   "execution_count": 9,
   "id": "5ffbb935",
   "metadata": {},
   "outputs": [
    {
     "name": "stdout",
     "output_type": "stream",
     "text": [
      "Here are some previous examples:\n",
      "\n",
      "------------\n",
      "\n",
      "Ticket Subject: Hassle-Free Refunds + 20% Off Your Next Purchase!\n",
      "Ticket From: Sarah Chen <sarah.chen@company.com>\n",
      "Ticket Description: \n",
      "```\n",
      "Hi John,\n",
      "\n",
      "Did you know our refund process is now faster than ever? Whether it’s shoes, gadgets, or headphones — you can return items with just a few clicks.\n",
      "\n",
      "And here’s a thank-you gift 🎁: Use code **REFUND20** at checkout to get 20% off your next order.\n",
      "\n",
      "No action needed — just shop smarter and with peace of mind.\n",
      "\n",
      "Cheers,  \n",
      "The Returns Team at Company.com\n",
      "\n",
      "```\n",
      "> Triage Result: ignore\n"
     ]
    }
   ],
   "source": [
    "from helpers import format_few_shot_examples\n",
    "\n",
    "print(format_few_shot_examples(results))"
   ]
  },
  {
   "cell_type": "code",
   "execution_count": null,
   "id": "82e77aa2",
   "metadata": {},
   "outputs": [],
   "source": []
  },
  {
   "cell_type": "code",
   "execution_count": null,
   "id": "76aafdd9",
   "metadata": {},
   "outputs": [],
   "source": []
  },
  {
   "cell_type": "code",
   "execution_count": null,
   "id": "af788f10",
   "metadata": {},
   "outputs": [],
   "source": []
  },
  {
   "cell_type": "code",
   "execution_count": null,
   "id": "244fffe5",
   "metadata": {},
   "outputs": [],
   "source": []
  },
  {
   "cell_type": "code",
   "execution_count": null,
   "id": "d72cade5",
   "metadata": {},
   "outputs": [],
   "source": [
    "import uuid\n",
    "store.put(\n",
    "    (\"customer_support\", \"Homy\", \"few_shot_examples\"), \n",
    "    str(uuid.uuid4()), \n",
    "    example1\n",
    ")\n",
    "store.put(\n",
    "    (\"customer_support\", \"Homy\", \"few_shot_examples\"), \n",
    "    str(uuid.uuid4()),\n",
    "    example2\n",
    ")\n"
   ]
  },
  {
   "cell_type": "markdown",
   "id": "9e10c055",
   "metadata": {},
   "source": [
    "# Retrieve examples from memory"
   ]
  },
  {
   "cell_type": "code",
   "execution_count": null,
   "id": "d718dd1d",
   "metadata": {},
   "outputs": [],
   "source": [
    "ticket = {\n",
    "    \"from\": \"Alex Smith <alex@gmail.com>\",\n",
    "    \"subject\": \"Returning an item\",\n",
    "    \"ticket_description\": \"\"\" \n",
    "\n",
    "    Struggling to keep up with emails? Our AI Email Assistant can help you respond faster, prioritize smarter, and stay organized effortlessly.\n",
    "\n",
    "    Features you'll love:\n",
    "    - Instant smart replies\n",
    "    - Auto-sorting & tagging\n",
    "    - Learns your style over time\n",
    "\n",
    "    Give it a try and feel the difference — your inbox will thank you!\n",
    "\n",
    "    – The AI+ Team\n",
    "\n",
    "        \"\"\"\n",
    "}\n",
    "\n"
   ]
  },
  {
   "cell_type": "code",
   "execution_count": null,
   "id": "112cebf5",
   "metadata": {},
   "outputs": [],
   "source": [
    "results = store.search(\n",
    "    (\"customer_support\", \"homayoun\", \"few_shot_examples\"),\n",
    "    query=str({\"ticket\": ticket}),\n",
    "    limit=1)"
   ]
  },
  {
   "cell_type": "code",
   "execution_count": null,
   "id": "c9895a22",
   "metadata": {},
   "outputs": [],
   "source": [
    "from helpers import format_few_shot_examples\n",
    "\n",
    "print(format_few_shot_examples(results))"
   ]
  },
  {
   "cell_type": "code",
   "execution_count": null,
   "id": "440e00fd",
   "metadata": {},
   "outputs": [],
   "source": []
  }
 ],
 "metadata": {
  "kernelspec": {
   "display_name": "episodic-memory-AzZ0b3EN-py3.12",
   "language": "python",
   "name": "python3"
  },
  "language_info": {
   "codemirror_mode": {
    "name": "ipython",
    "version": 3
   },
   "file_extension": ".py",
   "mimetype": "text/x-python",
   "name": "python",
   "nbconvert_exporter": "python",
   "pygments_lexer": "ipython3",
   "version": "3.12.0"
  }
 },
 "nbformat": 4,
 "nbformat_minor": 5
}
