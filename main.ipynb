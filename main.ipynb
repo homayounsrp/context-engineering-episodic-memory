{
 "cells": [
  {
   "cell_type": "code",
   "execution_count": 1,
   "id": "5a8f0634",
   "metadata": {},
   "outputs": [],
   "source": [
    "from graph import customer_support_agent\n",
    "from Graph.memory import store\n",
    "from Data import example1, example2\n",
    "import uuid"
   ]
  },
  {
   "cell_type": "markdown",
   "id": "75bf8fee",
   "metadata": {},
   "source": [
    "## Save Few-shots Example"
   ]
  },
  {
   "cell_type": "code",
   "execution_count": 2,
   "id": "5c99c5df",
   "metadata": {},
   "outputs": [],
   "source": [
    "\n",
    "store.put(\n",
    "    (\"customer_support\", \"homayoun\", \"few_shot_examples\"), \n",
    "    str(uuid.uuid4()), \n",
    "    example1\n",
    ")\n",
    "\n",
    "store.put(\n",
    "    (\"customer_support\", \"homayoun\", \"few_shot_examples\"), \n",
    "    str(uuid.uuid4()), \n",
    "    example2\n",
    ")\n",
    "\n"
   ]
  },
  {
   "cell_type": "code",
   "execution_count": null,
   "id": "a5a9cbf6",
   "metadata": {},
   "outputs": [],
   "source": [
    "ticket = {\n",
    "    \"from\": \"Alex Smith <alex@gmail.com>\",\n",
    "    \"subject\": \"Returning an item\",\n",
    "    \"ticket_description\": \"\"\"\n",
    "    \n",
    "Still spending hours replying to emails? Let InboxPro handle it for you!\n",
    "\n",
    "✅ AI-generated responses  \n",
    "✅ Smart prioritization  \n",
    "✅ Works right out of the box  \n",
    "\n",
    "Join thousands who've reclaimed their time.  \n",
    "No setup. No stress. Just smarter emailing.\n",
    "\n",
    "Ready to make email effortless?\n",
    "        \"\"\"\n",
    "}\n",
    "\n",
    "config = {\"configurable\": {\"user_id\": \"homayoun\"}}\n",
    "response = await customer_support_agent(input=ticket, config=config)\n"
   ]
  },
  {
   "cell_type": "code",
   "execution_count": null,
   "id": "a65d231a",
   "metadata": {},
   "outputs": [],
   "source": [
    "for message in response[\"messages\"]:\n",
    "    message.pretty_print()\n"
   ]
  },
  {
   "cell_type": "code",
   "execution_count": null,
   "id": "71ca677f",
   "metadata": {},
   "outputs": [],
   "source": []
  }
 ],
 "metadata": {
  "kernelspec": {
   "display_name": "episodic-memory-AzZ0b3EN-py3.12",
   "language": "python",
   "name": "python3"
  },
  "language_info": {
   "codemirror_mode": {
    "name": "ipython",
    "version": 3
   },
   "file_extension": ".py",
   "mimetype": "text/x-python",
   "name": "python",
   "nbconvert_exporter": "python",
   "pygments_lexer": "ipython3",
   "version": "3.12.0"
  }
 },
 "nbformat": 4,
 "nbformat_minor": 5
}
